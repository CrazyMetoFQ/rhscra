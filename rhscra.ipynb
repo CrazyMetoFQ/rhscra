{
  "nbformat": 4,
  "nbformat_minor": 0,
  "metadata": {
    "colab": {
      "name": "RHscra.ipynb",
      "provenance": [],
      "collapsed_sections": []
    },
    "kernelspec": {
      "name": "python3",
      "display_name": "Python 3"
    },
    "language_info": {
      "name": "python"
    }
  },
  "cells": [
    {
      "cell_type": "code",
      "metadata": {
        "id": "BKqBm0V-Sy_X"
      },
      "source": [
        "import requests #run"
      ],
      "execution_count": 2,
      "outputs": []
    },
    {
      "cell_type": "code",
      "metadata": {
        "id": "Fc57Nr9yWVBy"
      },
      "source": [
        "from bs4 import BeautifulSoup #run"
      ],
      "execution_count": 3,
      "outputs": []
    },
    {
      "cell_type": "code",
      "metadata": {
        "id": "FFoLWycXA7aI"
      },
      "source": [
        "from IPython.core.display import display, HTML\n",
        "# display(HTML('<h1>Hello, world!</h1>'))"
      ],
      "execution_count": 4,
      "outputs": []
    },
    {
      "cell_type": "code",
      "metadata": {
        "id": "balK-En_CKoO"
      },
      "source": [
        "import os #run"
      ],
      "execution_count": 5,
      "outputs": []
    },
    {
      "cell_type": "code",
      "metadata": {
        "id": "wfPgW9OA_rLP"
      },
      "source": [
        "import json"
      ],
      "execution_count": 6,
      "outputs": []
    },
    {
      "cell_type": "code",
      "metadata": {
        "id": "j7oEXZE2J6hR"
      },
      "source": [
        ""
      ],
      "execution_count": null,
      "outputs": []
    },
    {
      "cell_type": "code",
      "metadata": {
        "id": "0TPDjBDgTn7X",
        "cellView": "form"
      },
      "source": [
        "#@title Choose settings\n",
        "subreddit = \"'memes'\" #@param {type:\"string\"}\n",
        "limit =  50#@param {type:\"integer\"}\n",
        "timeframe = None #@param [\"None\", \"hour\", \"day\", \"week\", \"month\", \"year\", \"all\"]\n",
        "listing = None #@param [\"None\", \"controversial\", \"best\", \"hot\", \"new\", \"random\", \"rising\", \"top\"]\n",
        "\n",
        "if timeframe = \"None\":\n",
        "  timeframe == None\n",
        "else:pass\n",
        "\n",
        "if listing = \"None\":\n",
        "  listing == None\n",
        "else:pass\n"
      ],
      "execution_count": null,
      "outputs": []
    },
    {
      "cell_type": "code",
      "metadata": {
        "id": "13q6szPsTvbB",
        "cellView": "form"
      },
      "source": [
        "#@title funcs\n",
        "def get_reddit(subreddit,limit,timeframe=None,listing=None, user_agent_reddit = 'Chrome'):\n",
        "  \n",
        "  \"\"\"\n",
        "  returns request of json to reddit of following parameters\n",
        "    subreddit --> str name of subreddit\n",
        "    limit --> int max posts\n",
        "    timeframe --> str, eg: hour, day, week, month, year, all\n",
        "    listing --> str, eg: controversial, best, hot, new, random, rising, top\n",
        "  \"\"\"\n",
        "  g_dict = {'subreddit':subreddit,'listing':listing, 'limit':limit, 'timeframe':timeframe} # given values\n",
        "  t_dict = {'subreddit':'/r/{}','listing':'/{}','limit':'limit={}','timeframe':'&t={}'} # values to be formatted in \n",
        "  \n",
        "  u_dict = {} # empty dict to be added to values that will be used\n",
        "  for ((gk,gv),(tk,tv)) in zip(g_dict.items(),t_dict.items()):\n",
        "    # formats the two dicts to be used if none then no format happens\n",
        "\n",
        "    if gv == None:\n",
        "      u_dict[gk] = ''\n",
        "    else:\n",
        "      u_dict[gk] = tv.format(gv)\n",
        "\n",
        "  try:\n",
        "      base_url = f\"https://www.reddit.com{u_dict['subreddit']}{u_dict['listing']}.json?{u_dict['limit']}{u_dict['timeframe']}\"\n",
        "      r = requests.get(base_url, headers = {'User-agent': user_agent_reddit})\n",
        "      print(base_url)\n",
        "      if r.json().get('error'):\n",
        "        raise Exception(r.json().get('message'))\n",
        "  except:\n",
        "      raise Exception('An Error Occured')\n",
        "  return r\n"
      ],
      "execution_count": 1,
      "outputs": []
    },
    {
      "cell_type": "code",
      "metadata": {
        "colab": {
          "base_uri": "https://localhost:8080/"
        },
        "id": "5z3ZRK2CPkGt",
        "outputId": "375d2e20-c0bd-4f0d-e42d-a40b9e6fc126"
      },
      "source": [
        "rjsd = get_reddit('memes',10).json()"
      ],
      "execution_count": 9,
      "outputs": [
        {
          "output_type": "stream",
          "name": "stdout",
          "text": [
            "https://www.reddit.com/r/memes.json?limit=10\n"
          ]
        }
      ]
    },
    {
      "cell_type": "code",
      "metadata": {
        "colab": {
          "base_uri": "https://localhost:8080/"
        },
        "id": "0-hdL3xuCtTy",
        "outputId": "b25cade9-0465-4ab0-8f30-d4d9dee5387a"
      },
      "source": [
        "len([post for post in rjsd['data']['children']])"
      ],
      "execution_count": 10,
      "outputs": [
        {
          "output_type": "execute_result",
          "data": {
            "text/plain": [
              "11"
            ]
          },
          "metadata": {},
          "execution_count": 10
        }
      ]
    },
    {
      "cell_type": "code",
      "metadata": {
        "id": "ftqYZ4pNPn2_"
      },
      "source": [
        "# [post for post in rjsd['data']['children']][0]['data']"
      ],
      "execution_count": null,
      "outputs": []
    },
    {
      "cell_type": "code",
      "metadata": {
        "id": "d-jwqLRtUjbx"
      },
      "source": [
        "def find_all_imgs(r_js):\n",
        "\n",
        "  all_allowed_types = ['.jpg','.png','redgifs'] # allowed part in website\n",
        "  allowed_img_fms = ['.jpg','.png']\n",
        "  allowed_vid_fms = ['.mp4']\n",
        "\n",
        "  for (sno,post) in enumerate(r_js['data']['children']):\n",
        "    print(sno)\n",
        "    p_url = post['data']['url'] # post\n",
        "    p_title = post['data']['title']\n",
        "    # ttx = post['data']['selftext']\n",
        "    print (p_title)\n",
        "    print(p_url)\n",
        "    # print(ttx)\n",
        "\n",
        "    # if any(fm in p_url for fm in all_allowed_types):\n",
        "    #     print(p_url) # url of post\n",
        "\n",
        "    #     if any(fm in p_url for fm in allowed_img_fms): # images\n",
        "    #       rimg = requests.get(p_url)\n",
        "          \n",
        "    #       # with open(f'img{sno}.jpg', 'wb') as f: # writes img + serial number .jpg\n",
        "    #       #   f.write(rimg.content)\n",
        "    #       print(p_url)\n",
        "\n",
        "    #     else:\n",
        "    #       rit = requests.get(p_url, headers={'User-agent':'Chrome'})\n",
        "    #       soup = BeautifulSoup(rit.content, 'html5lib')\n",
        "\n",
        "    #       v_url = [i for i in soup.findAll('meta') if any(fm in i['content'] for fm in allowed_vid_fms) ][0]['content'] # url for video\n",
        "    #       riv = requests.get(v_url)\n",
        "          \n",
        "    #       # with open('sno.mp4', 'wb') as f:\n",
        "    #       #   f.write(rit.content)\n",
        "    #       print(v_url)\n",
        "        \n",
        "          \n",
        "\n"
      ],
      "execution_count": 13,
      "outputs": []
    },
    {
      "cell_type": "code",
      "source": [
        ""
      ],
      "metadata": {
        "id": "k8YqqsaDmLHg"
      },
      "execution_count": null,
      "outputs": []
    },
    {
      "cell_type": "code",
      "metadata": {
        "id": "N33Qmmu0dO6x"
      },
      "source": [
        "def get_files(rjsd, loc = '',\n",
        "              all_allowed_types = ['.jpg','.png','redgifs'],\n",
        "              allowed_img_fms = ['.jpg','.png'],\n",
        "              allowed_vid_fms = ['.mp4']):\n",
        "\n",
        "  \"\"\"\n",
        "  r --> request json dict\n",
        "  all_allowed_types --> allowed part in website\n",
        "  allowed_img_fms --> allowed image formats\n",
        "  allowed_vid_fms --> allowed video formats\n",
        "  \"\"\"\n",
        "\n",
        "  for (sno,post) in enumerate(rjsd['data']['children']):\n",
        "    print(sno)\n",
        "    p_url = post['data']['url'] # post\n",
        "    p_title = post['data']['title'] # title\n",
        "\n",
        "    if any(fm in p_url for fm in all_allowed_types):\n",
        "        print(p_url) # url of post\n",
        "\n",
        "        if any(fm in p_url for fm in allowed_img_fms): # images\n",
        "          rimg = requests.get(p_url)\n",
        "          \n",
        "          with open(f'{loc}img{sno}.jpg', 'wb') as f: # writes img + serial number .jpg\n",
        "            f.write(rimg.content)\n",
        "          print(p_url)\n",
        "          print(p_title)\n",
        "\n",
        "        else:\n",
        "          rit = requests.get(p_url, headers={'User-agent':'Chrome'})\n",
        "          soup = BeautifulSoup(rit.content, 'html5lib')\n",
        "\n",
        "          v_url = [i for i in soup.findAll('meta') if any(fm in i['content'] for fm in allowed_vid_fms) ][0]['content'] # url for video\n",
        "          riv = requests.get(v_url)\n",
        "          \n",
        "          with open(f'{loc}img{sno}.mp4', 'wb') as f:\n",
        "            f.write(riv.content)\n",
        "          print(v_url)\n",
        "          print(p_title)\n",
        "    "
      ],
      "execution_count": null,
      "outputs": []
    },
    {
      "cell_type": "code",
      "metadata": {
        "id": "h1K9YSOHDfRQ",
        "colab": {
          "base_uri": "https://localhost:8080/"
        },
        "outputId": "748bc4aa-ff61-42c1-b888-3c3620a43ac4"
      },
      "source": [
        "get_files(rjsd,'/content/meme/')"
      ],
      "execution_count": null,
      "outputs": [
        {
          "output_type": "stream",
          "name": "stdout",
          "text": [
            "0\n",
            "1\n",
            "2\n",
            "3\n",
            "4\n",
            "5\n",
            "6\n",
            "https://i.redd.it/eorvkm0igbv71.jpg\n",
            "https://i.redd.it/eorvkm0igbv71.jpg\n",
            "Tits on a throne\n",
            "7\n",
            "8\n",
            "9\n",
            "https://i.redd.it/6ygx63b1pbv71.jpg\n",
            "https://i.redd.it/6ygx63b1pbv71.jpg\n",
            "Settle a bet, pyra or mythra?\n",
            "10\n",
            "https://i.redd.it/yxitnn4fhav71.jpg\n",
            "https://i.redd.it/yxitnn4fhav71.jpg\n",
            "Sonia in euphoria\n"
          ]
        }
      ]
    },
    {
      "cell_type": "code",
      "metadata": {
        "id": "-mHleQikz1Od"
      },
      "source": [
        "from google.colab import files"
      ],
      "execution_count": null,
      "outputs": []
    },
    {
      "cell_type": "code",
      "metadata": {
        "id": "FHTtvEuACRBf"
      },
      "source": [
        "with open('/content/trial.mp4', 'wb') as f:\n",
        "  f.write(requests.get('https://thumbs2.redgifs.com/MasculineWhiteAfricanaugurbuzzard.mp4').content)"
      ],
      "execution_count": null,
      "outputs": []
    },
    {
      "cell_type": "code",
      "metadata": {
        "id": "Ump0mSD3C0R4"
      },
      "source": [
        "# for i in os.listdir('/content/'):\n",
        "#   files.download(i)\n",
        "#   print(i)"
      ],
      "execution_count": null,
      "outputs": []
    },
    {
      "cell_type": "code",
      "metadata": {
        "id": "4HwEAZ3FFMWm"
      },
      "source": [
        ""
      ],
      "execution_count": null,
      "outputs": []
    },
    {
      "cell_type": "code",
      "metadata": {
        "colab": {
          "base_uri": "https://localhost:8080/"
        },
        "id": "fLYK4WNyDvi-",
        "outputId": "554e3230-9c0f-4c1e-a6e7-95eb176c2456"
      },
      "source": [
        "from pathlib import Path\n",
        "!pip install img2pdf\n",
        "import img2pdf"
      ],
      "execution_count": null,
      "outputs": [
        {
          "output_type": "stream",
          "name": "stdout",
          "text": [
            "Requirement already satisfied: img2pdf in /usr/local/lib/python3.7/dist-packages (0.4.3)\n",
            "Requirement already satisfied: pikepdf in /usr/local/lib/python3.7/dist-packages (from img2pdf) (3.2.0)\n",
            "Requirement already satisfied: Pillow in /usr/local/lib/python3.7/dist-packages (from img2pdf) (7.1.2)\n",
            "Requirement already satisfied: lxml>=4.0 in /usr/local/lib/python3.7/dist-packages (from pikepdf->img2pdf) (4.2.6)\n"
          ]
        }
      ]
    },
    {
      "cell_type": "code",
      "metadata": {
        "id": "T6Dkg7OIDv5R"
      },
      "source": [
        "def convertimg(foldpath,pdfname, allowed=('.jpg','.png','.jpeg')):\n",
        "    \n",
        "    \"\"\"\n",
        "    convert all images in the folder to a pdf\n",
        "    \"\"\"\n",
        "    \n",
        "    if type(foldpath) == type(' '):\n",
        "      entries = Path(foldpath) # inintialisng\n",
        "      \n",
        "      list_of_paths = [ r'{}'.format(str(entry.relative_to('/'))) for entry in entries.iterdir() if str(entry.relative_to('/')).endswith(allowed)] #list of relative paths    \n",
        "    \n",
        "    else:\n",
        "      list_of_paths = foldpath\n",
        "\n",
        "    print( list_of_paths )\n",
        "    \n",
        "    with open(pdfname,\"wb\") as f:\n",
        "        f.write(img2pdf.convert([requests.get(i).content for i in list_of_paths]))\n",
        "        \n",
        "    \n",
        "    return list_of_paths"
      ],
      "execution_count": null,
      "outputs": []
    },
    {
      "cell_type": "code",
      "metadata": {
        "colab": {
          "base_uri": "https://localhost:8080/",
          "height": 340
        },
        "id": "3VVEIsarD4_h",
        "outputId": "2e252a7e-4b69-4b15-aff6-90e1a46ee0ec"
      },
      "source": [
        "convertimg('/content/meme/','/content/meme/meme.pdf')"
      ],
      "execution_count": null,
      "outputs": [
        {
          "output_type": "stream",
          "name": "stdout",
          "text": [
            "['content/meme/img10.jpg', 'content/meme/img9.jpg', 'content/meme/img6.jpg']\n"
          ]
        },
        {
          "output_type": "error",
          "ename": "MissingSchema",
          "evalue": "ignored",
          "traceback": [
            "\u001b[0;31m---------------------------------------------------------------------------\u001b[0m",
            "\u001b[0;31mMissingSchema\u001b[0m                             Traceback (most recent call last)",
            "\u001b[0;32m<ipython-input-35-572654a3c4c5>\u001b[0m in \u001b[0;36m<module>\u001b[0;34m()\u001b[0m\n\u001b[0;32m----> 1\u001b[0;31m \u001b[0mconvertimg\u001b[0m\u001b[0;34m(\u001b[0m\u001b[0;34m'/content/meme/'\u001b[0m\u001b[0;34m,\u001b[0m\u001b[0;34m'/content/meme/meme.pdf'\u001b[0m\u001b[0;34m)\u001b[0m\u001b[0;34m\u001b[0m\u001b[0;34m\u001b[0m\u001b[0m\n\u001b[0m",
            "\u001b[0;32m<ipython-input-34-6f2671877bed>\u001b[0m in \u001b[0;36mconvertimg\u001b[0;34m(foldpath, pdfname, allowed)\u001b[0m\n\u001b[1;32m     16\u001b[0m \u001b[0;34m\u001b[0m\u001b[0m\n\u001b[1;32m     17\u001b[0m     \u001b[0;32mwith\u001b[0m \u001b[0mopen\u001b[0m\u001b[0;34m(\u001b[0m\u001b[0mpdfname\u001b[0m\u001b[0;34m,\u001b[0m\u001b[0;34m\"wb\"\u001b[0m\u001b[0;34m)\u001b[0m \u001b[0;32mas\u001b[0m \u001b[0mf\u001b[0m\u001b[0;34m:\u001b[0m\u001b[0;34m\u001b[0m\u001b[0;34m\u001b[0m\u001b[0m\n\u001b[0;32m---> 18\u001b[0;31m         \u001b[0mf\u001b[0m\u001b[0;34m.\u001b[0m\u001b[0mwrite\u001b[0m\u001b[0;34m(\u001b[0m\u001b[0mimg2pdf\u001b[0m\u001b[0;34m.\u001b[0m\u001b[0mconvert\u001b[0m\u001b[0;34m(\u001b[0m\u001b[0;34m[\u001b[0m\u001b[0mrequests\u001b[0m\u001b[0;34m.\u001b[0m\u001b[0mget\u001b[0m\u001b[0;34m(\u001b[0m\u001b[0mi\u001b[0m\u001b[0;34m)\u001b[0m\u001b[0;34m.\u001b[0m\u001b[0mcontent\u001b[0m \u001b[0;32mfor\u001b[0m \u001b[0mi\u001b[0m \u001b[0;32min\u001b[0m \u001b[0mlist_of_paths\u001b[0m\u001b[0;34m]\u001b[0m\u001b[0;34m)\u001b[0m\u001b[0;34m)\u001b[0m\u001b[0;34m\u001b[0m\u001b[0;34m\u001b[0m\u001b[0m\n\u001b[0m\u001b[1;32m     19\u001b[0m \u001b[0;34m\u001b[0m\u001b[0m\n\u001b[1;32m     20\u001b[0m \u001b[0;34m\u001b[0m\u001b[0m\n",
            "\u001b[0;32m<ipython-input-34-6f2671877bed>\u001b[0m in \u001b[0;36m<listcomp>\u001b[0;34m(.0)\u001b[0m\n\u001b[1;32m     16\u001b[0m \u001b[0;34m\u001b[0m\u001b[0m\n\u001b[1;32m     17\u001b[0m     \u001b[0;32mwith\u001b[0m \u001b[0mopen\u001b[0m\u001b[0;34m(\u001b[0m\u001b[0mpdfname\u001b[0m\u001b[0;34m,\u001b[0m\u001b[0;34m\"wb\"\u001b[0m\u001b[0;34m)\u001b[0m \u001b[0;32mas\u001b[0m \u001b[0mf\u001b[0m\u001b[0;34m:\u001b[0m\u001b[0;34m\u001b[0m\u001b[0;34m\u001b[0m\u001b[0m\n\u001b[0;32m---> 18\u001b[0;31m         \u001b[0mf\u001b[0m\u001b[0;34m.\u001b[0m\u001b[0mwrite\u001b[0m\u001b[0;34m(\u001b[0m\u001b[0mimg2pdf\u001b[0m\u001b[0;34m.\u001b[0m\u001b[0mconvert\u001b[0m\u001b[0;34m(\u001b[0m\u001b[0;34m[\u001b[0m\u001b[0mrequests\u001b[0m\u001b[0;34m.\u001b[0m\u001b[0mget\u001b[0m\u001b[0;34m(\u001b[0m\u001b[0mi\u001b[0m\u001b[0;34m)\u001b[0m\u001b[0;34m.\u001b[0m\u001b[0mcontent\u001b[0m \u001b[0;32mfor\u001b[0m \u001b[0mi\u001b[0m \u001b[0;32min\u001b[0m \u001b[0mlist_of_paths\u001b[0m\u001b[0;34m]\u001b[0m\u001b[0;34m)\u001b[0m\u001b[0;34m)\u001b[0m\u001b[0;34m\u001b[0m\u001b[0;34m\u001b[0m\u001b[0m\n\u001b[0m\u001b[1;32m     19\u001b[0m \u001b[0;34m\u001b[0m\u001b[0m\n\u001b[1;32m     20\u001b[0m \u001b[0;34m\u001b[0m\u001b[0m\n",
            "\u001b[0;32m/usr/local/lib/python3.7/dist-packages/requests/api.py\u001b[0m in \u001b[0;36mget\u001b[0;34m(url, params, **kwargs)\u001b[0m\n\u001b[1;32m     74\u001b[0m \u001b[0;34m\u001b[0m\u001b[0m\n\u001b[1;32m     75\u001b[0m     \u001b[0mkwargs\u001b[0m\u001b[0;34m.\u001b[0m\u001b[0msetdefault\u001b[0m\u001b[0;34m(\u001b[0m\u001b[0;34m'allow_redirects'\u001b[0m\u001b[0;34m,\u001b[0m \u001b[0;32mTrue\u001b[0m\u001b[0;34m)\u001b[0m\u001b[0;34m\u001b[0m\u001b[0;34m\u001b[0m\u001b[0m\n\u001b[0;32m---> 76\u001b[0;31m     \u001b[0;32mreturn\u001b[0m \u001b[0mrequest\u001b[0m\u001b[0;34m(\u001b[0m\u001b[0;34m'get'\u001b[0m\u001b[0;34m,\u001b[0m \u001b[0murl\u001b[0m\u001b[0;34m,\u001b[0m \u001b[0mparams\u001b[0m\u001b[0;34m=\u001b[0m\u001b[0mparams\u001b[0m\u001b[0;34m,\u001b[0m \u001b[0;34m**\u001b[0m\u001b[0mkwargs\u001b[0m\u001b[0;34m)\u001b[0m\u001b[0;34m\u001b[0m\u001b[0;34m\u001b[0m\u001b[0m\n\u001b[0m\u001b[1;32m     77\u001b[0m \u001b[0;34m\u001b[0m\u001b[0m\n\u001b[1;32m     78\u001b[0m \u001b[0;34m\u001b[0m\u001b[0m\n",
            "\u001b[0;32m/usr/local/lib/python3.7/dist-packages/requests/api.py\u001b[0m in \u001b[0;36mrequest\u001b[0;34m(method, url, **kwargs)\u001b[0m\n\u001b[1;32m     59\u001b[0m     \u001b[0;31m# cases, and look like a memory leak in others.\u001b[0m\u001b[0;34m\u001b[0m\u001b[0;34m\u001b[0m\u001b[0;34m\u001b[0m\u001b[0m\n\u001b[1;32m     60\u001b[0m     \u001b[0;32mwith\u001b[0m \u001b[0msessions\u001b[0m\u001b[0;34m.\u001b[0m\u001b[0mSession\u001b[0m\u001b[0;34m(\u001b[0m\u001b[0;34m)\u001b[0m \u001b[0;32mas\u001b[0m \u001b[0msession\u001b[0m\u001b[0;34m:\u001b[0m\u001b[0;34m\u001b[0m\u001b[0;34m\u001b[0m\u001b[0m\n\u001b[0;32m---> 61\u001b[0;31m         \u001b[0;32mreturn\u001b[0m \u001b[0msession\u001b[0m\u001b[0;34m.\u001b[0m\u001b[0mrequest\u001b[0m\u001b[0;34m(\u001b[0m\u001b[0mmethod\u001b[0m\u001b[0;34m=\u001b[0m\u001b[0mmethod\u001b[0m\u001b[0;34m,\u001b[0m \u001b[0murl\u001b[0m\u001b[0;34m=\u001b[0m\u001b[0murl\u001b[0m\u001b[0;34m,\u001b[0m \u001b[0;34m**\u001b[0m\u001b[0mkwargs\u001b[0m\u001b[0;34m)\u001b[0m\u001b[0;34m\u001b[0m\u001b[0;34m\u001b[0m\u001b[0m\n\u001b[0m\u001b[1;32m     62\u001b[0m \u001b[0;34m\u001b[0m\u001b[0m\n\u001b[1;32m     63\u001b[0m \u001b[0;34m\u001b[0m\u001b[0m\n",
            "\u001b[0;32m/usr/local/lib/python3.7/dist-packages/requests/sessions.py\u001b[0m in \u001b[0;36mrequest\u001b[0;34m(self, method, url, params, data, headers, cookies, files, auth, timeout, allow_redirects, proxies, hooks, stream, verify, cert, json)\u001b[0m\n\u001b[1;32m    514\u001b[0m             \u001b[0mhooks\u001b[0m\u001b[0;34m=\u001b[0m\u001b[0mhooks\u001b[0m\u001b[0;34m,\u001b[0m\u001b[0;34m\u001b[0m\u001b[0;34m\u001b[0m\u001b[0m\n\u001b[1;32m    515\u001b[0m         )\n\u001b[0;32m--> 516\u001b[0;31m         \u001b[0mprep\u001b[0m \u001b[0;34m=\u001b[0m \u001b[0mself\u001b[0m\u001b[0;34m.\u001b[0m\u001b[0mprepare_request\u001b[0m\u001b[0;34m(\u001b[0m\u001b[0mreq\u001b[0m\u001b[0;34m)\u001b[0m\u001b[0;34m\u001b[0m\u001b[0;34m\u001b[0m\u001b[0m\n\u001b[0m\u001b[1;32m    517\u001b[0m \u001b[0;34m\u001b[0m\u001b[0m\n\u001b[1;32m    518\u001b[0m         \u001b[0mproxies\u001b[0m \u001b[0;34m=\u001b[0m \u001b[0mproxies\u001b[0m \u001b[0;32mor\u001b[0m \u001b[0;34m{\u001b[0m\u001b[0;34m}\u001b[0m\u001b[0;34m\u001b[0m\u001b[0;34m\u001b[0m\u001b[0m\n",
            "\u001b[0;32m/usr/local/lib/python3.7/dist-packages/requests/sessions.py\u001b[0m in \u001b[0;36mprepare_request\u001b[0;34m(self, request)\u001b[0m\n\u001b[1;32m    457\u001b[0m             \u001b[0mauth\u001b[0m\u001b[0;34m=\u001b[0m\u001b[0mmerge_setting\u001b[0m\u001b[0;34m(\u001b[0m\u001b[0mauth\u001b[0m\u001b[0;34m,\u001b[0m \u001b[0mself\u001b[0m\u001b[0;34m.\u001b[0m\u001b[0mauth\u001b[0m\u001b[0;34m)\u001b[0m\u001b[0;34m,\u001b[0m\u001b[0;34m\u001b[0m\u001b[0;34m\u001b[0m\u001b[0m\n\u001b[1;32m    458\u001b[0m             \u001b[0mcookies\u001b[0m\u001b[0;34m=\u001b[0m\u001b[0mmerged_cookies\u001b[0m\u001b[0;34m,\u001b[0m\u001b[0;34m\u001b[0m\u001b[0;34m\u001b[0m\u001b[0m\n\u001b[0;32m--> 459\u001b[0;31m             \u001b[0mhooks\u001b[0m\u001b[0;34m=\u001b[0m\u001b[0mmerge_hooks\u001b[0m\u001b[0;34m(\u001b[0m\u001b[0mrequest\u001b[0m\u001b[0;34m.\u001b[0m\u001b[0mhooks\u001b[0m\u001b[0;34m,\u001b[0m \u001b[0mself\u001b[0m\u001b[0;34m.\u001b[0m\u001b[0mhooks\u001b[0m\u001b[0;34m)\u001b[0m\u001b[0;34m,\u001b[0m\u001b[0;34m\u001b[0m\u001b[0;34m\u001b[0m\u001b[0m\n\u001b[0m\u001b[1;32m    460\u001b[0m         )\n\u001b[1;32m    461\u001b[0m         \u001b[0;32mreturn\u001b[0m \u001b[0mp\u001b[0m\u001b[0;34m\u001b[0m\u001b[0;34m\u001b[0m\u001b[0m\n",
            "\u001b[0;32m/usr/local/lib/python3.7/dist-packages/requests/models.py\u001b[0m in \u001b[0;36mprepare\u001b[0;34m(self, method, url, headers, files, data, params, auth, cookies, hooks, json)\u001b[0m\n\u001b[1;32m    312\u001b[0m \u001b[0;34m\u001b[0m\u001b[0m\n\u001b[1;32m    313\u001b[0m         \u001b[0mself\u001b[0m\u001b[0;34m.\u001b[0m\u001b[0mprepare_method\u001b[0m\u001b[0;34m(\u001b[0m\u001b[0mmethod\u001b[0m\u001b[0;34m)\u001b[0m\u001b[0;34m\u001b[0m\u001b[0;34m\u001b[0m\u001b[0m\n\u001b[0;32m--> 314\u001b[0;31m         \u001b[0mself\u001b[0m\u001b[0;34m.\u001b[0m\u001b[0mprepare_url\u001b[0m\u001b[0;34m(\u001b[0m\u001b[0murl\u001b[0m\u001b[0;34m,\u001b[0m \u001b[0mparams\u001b[0m\u001b[0;34m)\u001b[0m\u001b[0;34m\u001b[0m\u001b[0;34m\u001b[0m\u001b[0m\n\u001b[0m\u001b[1;32m    315\u001b[0m         \u001b[0mself\u001b[0m\u001b[0;34m.\u001b[0m\u001b[0mprepare_headers\u001b[0m\u001b[0;34m(\u001b[0m\u001b[0mheaders\u001b[0m\u001b[0;34m)\u001b[0m\u001b[0;34m\u001b[0m\u001b[0;34m\u001b[0m\u001b[0m\n\u001b[1;32m    316\u001b[0m         \u001b[0mself\u001b[0m\u001b[0;34m.\u001b[0m\u001b[0mprepare_cookies\u001b[0m\u001b[0;34m(\u001b[0m\u001b[0mcookies\u001b[0m\u001b[0;34m)\u001b[0m\u001b[0;34m\u001b[0m\u001b[0;34m\u001b[0m\u001b[0m\n",
            "\u001b[0;32m/usr/local/lib/python3.7/dist-packages/requests/models.py\u001b[0m in \u001b[0;36mprepare_url\u001b[0;34m(self, url, params)\u001b[0m\n\u001b[1;32m    386\u001b[0m             \u001b[0merror\u001b[0m \u001b[0;34m=\u001b[0m \u001b[0merror\u001b[0m\u001b[0;34m.\u001b[0m\u001b[0mformat\u001b[0m\u001b[0;34m(\u001b[0m\u001b[0mto_native_string\u001b[0m\u001b[0;34m(\u001b[0m\u001b[0murl\u001b[0m\u001b[0;34m,\u001b[0m \u001b[0;34m'utf8'\u001b[0m\u001b[0;34m)\u001b[0m\u001b[0;34m)\u001b[0m\u001b[0;34m\u001b[0m\u001b[0;34m\u001b[0m\u001b[0m\n\u001b[1;32m    387\u001b[0m \u001b[0;34m\u001b[0m\u001b[0m\n\u001b[0;32m--> 388\u001b[0;31m             \u001b[0;32mraise\u001b[0m \u001b[0mMissingSchema\u001b[0m\u001b[0;34m(\u001b[0m\u001b[0merror\u001b[0m\u001b[0;34m)\u001b[0m\u001b[0;34m\u001b[0m\u001b[0;34m\u001b[0m\u001b[0m\n\u001b[0m\u001b[1;32m    389\u001b[0m \u001b[0;34m\u001b[0m\u001b[0m\n\u001b[1;32m    390\u001b[0m         \u001b[0;32mif\u001b[0m \u001b[0;32mnot\u001b[0m \u001b[0mhost\u001b[0m\u001b[0;34m:\u001b[0m\u001b[0;34m\u001b[0m\u001b[0;34m\u001b[0m\u001b[0m\n",
            "\u001b[0;31mMissingSchema\u001b[0m: Invalid URL 'content/meme/img10.jpg': No schema supplied. Perhaps you meant http://content/meme/img10.jpg?"
          ]
        }
      ]
    },
    {
      "cell_type": "code",
      "metadata": {
        "id": "fWSmik9XERW2"
      },
      "source": [
        "foldpath = '/content/meme/'\n",
        "\n",
        "entries = Path(foldpath) # inintialisng\n",
        "  \n",
        "# for sno,pa in enumerate(list_of_paths)"
      ],
      "execution_count": null,
      "outputs": []
    },
    {
      "cell_type": "code",
      "metadata": {
        "colab": {
          "base_uri": "https://localhost:8080/"
        },
        "id": "E0ww4i_1jXPr",
        "outputId": "38ab0a26-3b5f-47af-ec8d-95aab06b2a77"
      },
      "source": [
        "lop = []\n",
        "for entry in entries.iterdir():\n",
        "  if str(entry.relative_to('/')).endswith('.jpg'):\n",
        "    lop.append(r'/{}'.format(str(entry.relative_to('/'))))\n",
        "lop"
      ],
      "execution_count": null,
      "outputs": [
        {
          "output_type": "execute_result",
          "data": {
            "text/plain": [
              "['/content/meme/img10.jpg', '/content/meme/img9.jpg', '/content/meme/img6.jpg']"
            ]
          },
          "metadata": {},
          "execution_count": 52
        }
      ]
    },
    {
      "cell_type": "code",
      "metadata": {
        "id": "VPUeVWB-jT_O"
      },
      "source": [
        "with open('/content/mmeeh.pdf',\"wb\") as f:\n",
        "        f.write(img2pdf.convert(lop))"
      ],
      "execution_count": null,
      "outputs": []
    },
    {
      "cell_type": "code",
      "metadata": {
        "colab": {
          "base_uri": "https://localhost:8080/"
        },
        "id": "A5CZRtNDKc9X",
        "outputId": "7ba96b32-f365-4df3-d81b-e1e995f7b301"
      },
      "source": [
        "list_of_paths = [ r'{}'.format(str(entry.relative_to('/content/'))) for entry in entries.iterdir() ] #list of relative paths    \n",
        "list_of_paths"
      ],
      "execution_count": null,
      "outputs": [
        {
          "output_type": "execute_result",
          "data": {
            "text/plain": [
              "['meme/img8.jpg',\n",
              " 'meme/img10.jpg',\n",
              " 'meme/img2.jpg',\n",
              " 'meme/img7.jpg',\n",
              " 'meme/img4.mp4',\n",
              " 'meme/img9.jpg',\n",
              " 'meme/img6.jpg',\n",
              " 'meme/img1.mp4']"
            ]
          },
          "metadata": {},
          "execution_count": 17
        }
      ]
    }
  ]
}
